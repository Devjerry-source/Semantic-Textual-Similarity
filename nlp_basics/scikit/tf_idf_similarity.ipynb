{
 "cells": [
  {
   "cell_type": "code",
   "execution_count": 29,
   "metadata": {},
   "outputs": [],
   "source": [
    "import sklearn\n",
    "import numpy as np\n",
    "from sklearn.feature_extraction.text import CountVectorizer, TfidfVectorizer\n",
    "from sklearn.metrics.pairwise import cosine_similarity"
   ]
  },
  {
   "cell_type": "markdown",
   "metadata": {},
   "source": [
    "# Similarity between two sentences\n",
    "\n",
    "In this notebook, **cosine similarity** between two sentences is computed with following steps:\n",
    "\n",
    "### Steps: \n",
    "\n",
    "#### Method 1\n",
    "\n",
    "1. Convert words into vector of numbers using bag of words (It returns count of the word in sentence based on all vocabulary words.\n",
    "\n",
    "2. After converting words to vector form, we can directly compute cosine similarity b/w two vectors \n",
    "\n",
    "3. Then compute dot product.\n",
    "\n",
    "**Note**: Bag of words does not account for semantic similarity, for example: two sentences: \"Marry is quicker than John\" and \"John is quicker than Marry\" are same when we use bag of words rather than word embeddings\n",
    "\n",
    "#### Method 2\n",
    "\n",
    "1. Convert words into vector of numbers using bag of words (It returns count of the word in sentence based on all vocabulary words.\n",
    "\n",
    "2. Apply TF-IDF to the result of bag of words for assign weight to each term. \n",
    "\n",
    "3. Then compute cosine similarity and dot product.\n"
   ]
  },
  {
   "cell_type": "code",
   "execution_count": 79,
   "metadata": {},
   "outputs": [
    {
     "name": "stdout",
     "output_type": "stream",
     "text": [
      "Bag of words vector \n",
      "\n",
      "[[1 1 0 1 1 0 1 1 0 1]\n",
      " [1 1 1 0 0 1 0 0 1 0]]\n",
      " \n",
      " ==== TF IDF ====== \n",
      "\n",
      "[[0.29017021 0.29017021 0.         0.4078241  0.4078241  0.\n",
      "  0.4078241  0.4078241  0.         0.4078241 ]\n",
      " [0.35520009 0.35520009 0.49922133 0.         0.         0.49922133\n",
      "  0.         0.         0.49922133 0.        ]]\n",
      " \n",
      " ==== cosine similarity ==== \n",
      " \n",
      "[[1.         0.20613697]\n",
      " [0.20613697 1.        ]]\n",
      " \n",
      " ==== dot product === \n",
      " \n",
      "0.41227393213657215\n"
     ]
    }
   ],
   "source": [
    "class TextSimilarity():\n",
    "    \n",
    "    def __init__(self):\n",
    "        pass\n",
    "    \n",
    "    # convert words into numbers\n",
    "    def applyBagofWords(self, data):\n",
    "        \n",
    "        vectorizer = CountVectorizer()\n",
    "        return vectorizer.fit_transform(data).toarray()\n",
    "    \n",
    "    def applyTfIDF(self, data):\n",
    "        \n",
    "        vectorizer = TfidfVectorizer()\n",
    "        tf = vectorizer.fit_transform(data).toarray()\n",
    "        return tf \n",
    "    \n",
    "    def computeCosineSimilarity(self, vectors):\n",
    "        \n",
    "        return cosine_similarity(vectors)\n",
    "        \n",
    "    def computeDotProduct(self, v1, v2):\n",
    "        \n",
    "        return np.dot(v1, v2)\n",
    "    \n",
    "textSim = TextSimilarity()\n",
    "data_corpus = [\"Marry and John are very good friends\", \"Jack and Martin are enemies\"]\n",
    "print (\"Bag of words vector \\n\")\n",
    "print (textSim.applyBagofWords(data_corpus))\n",
    "tf_idf_vectors = textSim.applyTfIDF(data_corpus)\n",
    "print (\" \\n ==== TF IDF ====== \\n\")\n",
    "print (tf_idf_vectors)\n",
    "print ( \" \\n ==== cosine similarity ==== \\n \")\n",
    "cosine_sim = textSim.computeCosineSimilarity(tf_idf_vectors)\n",
    "print (cosine_sim)\n",
    "print (\" \\n ==== dot product === \\n \")\n",
    "print (textSim.computeDotProduct(cosine_sim[0], cosine_sim[1]))"
   ]
  }
 ],
 "metadata": {
  "kernelspec": {
   "display_name": "Python 3",
   "language": "python",
   "name": "python3"
  },
  "language_info": {
   "codemirror_mode": {
    "name": "ipython",
    "version": 2
   },
   "file_extension": ".py",
   "mimetype": "text/x-python",
   "name": "python",
   "nbconvert_exporter": "python",
   "pygments_lexer": "ipython2",
   "version": "2.7.15"
  }
 },
 "nbformat": 4,
 "nbformat_minor": 2
}
